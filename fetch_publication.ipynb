{
 "cells": [
  {
   "cell_type": "code",
   "execution_count": null,
   "id": "ebb92a6b",
   "metadata": {},
   "outputs": [],
   "source": [
    "from scholarly import scholarly\n",
    "import json\n",
    "import os\n",
    "\n",
    "# Search for the author\n",
    "search_query = scholarly.search_author_id(\"WpXJ758AAAAJ\")\n",
    "author = scholarly.fill((search_query))\n",
    "\n",
    "journals = []\n",
    "conferences = []\n",
    "for pub in author.get('publications', []):\n",
    "    detailed = scholarly.fill(pub)\n",
    "    \n",
    "    \n",
    "    if detailed.get('bib', {}).get('conference', None):\n",
    "        conf = detailed.get('bib', {})\n",
    "        conf_text = (conf.get('title', '') + ', ' + conf.get('conference', '') + ', ' + conf.get('author', '') + ', ' + str(conf.get('pub_year', '')))\n",
    "        conferences.append(conf_text)\n",
    "    if detailed.get('bib', {}).get('journal', None):\n",
    "        journal = detailed.get('bib', {})\n",
    "        journal_text = (journal.get('title', '') + ', ' + conf.get('journal', '') + ', ' + conf.get('author', '') + ', ' + str(conf.get('pub_year', '')))\n",
    "        journals.append(journal_text)\n",
    "        \n",
    "\n"
   ]
  },
  {
   "cell_type": "code",
   "execution_count": 20,
   "id": "6824beb4",
   "metadata": {},
   "outputs": [],
   "source": [
    "conference_dicts = [{\"title\": c} for c in conferences]\n",
    "with open(\"_data/publicationss.json\", \"w\", encoding=\"utf-8\") as f:\n",
    "\tjson.dump(conference_dicts, f, ensure_ascii=False, indent=4)\n",
    " \n",
    "journal_dicts = [{\"title\": c} for c in journals]\n",
    "with open(\"_data/publications.json\", \"w\", encoding=\"utf-8\") as f:\n",
    "\tjson.dump(journal_dicts, f, ensure_ascii=False, indent=4)"
   ]
  },
  {
   "cell_type": "code",
   "execution_count": null,
   "id": "b5941b64",
   "metadata": {},
   "outputs": [
    {
     "ename": "KeyboardInterrupt",
     "evalue": "",
     "output_type": "error",
     "traceback": [
      "\u001b[1;31m---------------------------------------------------------------------------\u001b[0m",
      "\u001b[1;31mKeyboardInterrupt\u001b[0m                         Traceback (most recent call last)",
      "Cell \u001b[1;32mIn[5], line 28\u001b[0m\n\u001b[0;32m     25\u001b[0m         \u001b[38;5;28;01mwith\u001b[39;00m \u001b[38;5;28mopen\u001b[39m(\u001b[38;5;124mf\u001b[39m\u001b[38;5;124m\"\u001b[39m\u001b[38;5;124m./_data/journals.json\u001b[39m\u001b[38;5;124m\"\u001b[39m, \u001b[38;5;124m\"\u001b[39m\u001b[38;5;124mw\u001b[39m\u001b[38;5;124m\"\u001b[39m, encoding\u001b[38;5;241m=\u001b[39m\u001b[38;5;124m\"\u001b[39m\u001b[38;5;124mutf-8\u001b[39m\u001b[38;5;124m\"\u001b[39m) \u001b[38;5;28;01mas\u001b[39;00m f:\n\u001b[0;32m     26\u001b[0m             json\u001b[38;5;241m.\u001b[39mdump(result, f, ensure_ascii\u001b[38;5;241m=\u001b[39m\u001b[38;5;28;01mFalse\u001b[39;00m, indent\u001b[38;5;241m=\u001b[39m\u001b[38;5;241m4\u001b[39m)\n\u001b[1;32m---> 28\u001b[0m \u001b[38;5;28mprint\u001b[39m(\u001b[43mfetch_author_publications\u001b[49m\u001b[43m(\u001b[49m\u001b[38;5;124;43m\"\u001b[39;49m\u001b[38;5;124;43mH4gjHdYAAAAJ\u001b[39;49m\u001b[38;5;124;43m\"\u001b[39;49m\u001b[43m)\u001b[49m)\n",
      "Cell \u001b[1;32mIn[5], line 8\u001b[0m, in \u001b[0;36mfetch_author_publications\u001b[1;34m(id)\u001b[0m\n\u001b[0;32m      6\u001b[0m result \u001b[38;5;241m=\u001b[39m []\n\u001b[0;32m      7\u001b[0m \u001b[38;5;28;01mfor\u001b[39;00m pub \u001b[38;5;129;01min\u001b[39;00m author\u001b[38;5;241m.\u001b[39mget(\u001b[38;5;124m'\u001b[39m\u001b[38;5;124mpublications\u001b[39m\u001b[38;5;124m'\u001b[39m, []):\n\u001b[1;32m----> 8\u001b[0m     detailed \u001b[38;5;241m=\u001b[39m \u001b[43mscholarly\u001b[49m\u001b[38;5;241;43m.\u001b[39;49m\u001b[43mfill\u001b[49m\u001b[43m(\u001b[49m\u001b[43mpub\u001b[49m\u001b[43m)\u001b[49m\n\u001b[0;32m      9\u001b[0m     bib \u001b[38;5;241m=\u001b[39m detailed\u001b[38;5;241m.\u001b[39mget(\u001b[38;5;124m'\u001b[39m\u001b[38;5;124mbib\u001b[39m\u001b[38;5;124m'\u001b[39m, {})\n\u001b[0;32m     10\u001b[0m     item \u001b[38;5;241m=\u001b[39m {\n\u001b[0;32m     11\u001b[0m         \u001b[38;5;124m\"\u001b[39m\u001b[38;5;124mid\u001b[39m\u001b[38;5;124m\"\u001b[39m: \u001b[38;5;124m\"\"\"\u001b[39m\u001b[38;5;124mhttp://zotero.org/groups/...\u001b[39m\u001b[38;5;124m\"\"\"\u001b[39m,  \u001b[38;5;66;03m# you may generate or leave placeholder\u001b[39;00m\n\u001b[0;32m     12\u001b[0m         \u001b[38;5;124m\"\u001b[39m\u001b[38;5;124mtype\u001b[39m\u001b[38;5;124m\"\u001b[39m: \u001b[38;5;124m\"\u001b[39m\u001b[38;5;124marticle-journal\u001b[39m\u001b[38;5;124m\"\u001b[39m,               \u001b[38;5;66;03m# adjust based on content\u001b[39;00m\n\u001b[1;32m   (...)\u001b[0m\n\u001b[0;32m     22\u001b[0m         \u001b[38;5;124m\"\u001b[39m\u001b[38;5;124missued\u001b[39m\u001b[38;5;124m\"\u001b[39m: {\u001b[38;5;124m\"\u001b[39m\u001b[38;5;124mdate-parts\u001b[39m\u001b[38;5;124m\"\u001b[39m: [[bib\u001b[38;5;241m.\u001b[39mget(\u001b[38;5;124m\"\u001b[39m\u001b[38;5;124mpub_year\u001b[39m\u001b[38;5;124m\"\u001b[39m)]]}\n\u001b[0;32m     23\u001b[0m     }\n",
      "File \u001b[1;32m~\\AppData\\Local\\Packages\\PythonSoftwareFoundation.Python.3.10_qbz5n2kfra8p0\\LocalCache\\local-packages\\Python310\\site-packages\\scholarly\\_scholarly.py:238\u001b[0m, in \u001b[0;36m_Scholarly.fill\u001b[1;34m(self, object, sections, sortby, publication_limit)\u001b[0m\n\u001b[0;32m    236\u001b[0m \u001b[38;5;28;01melif\u001b[39;00m \u001b[38;5;28mobject\u001b[39m[\u001b[38;5;124m'\u001b[39m\u001b[38;5;124mcontainer_type\u001b[39m\u001b[38;5;124m'\u001b[39m] \u001b[38;5;241m==\u001b[39m \u001b[38;5;124m\"\u001b[39m\u001b[38;5;124mPublication\u001b[39m\u001b[38;5;124m\"\u001b[39m:\n\u001b[0;32m    237\u001b[0m     publication_parser \u001b[38;5;241m=\u001b[39m PublicationParser(\u001b[38;5;28mself\u001b[39m\u001b[38;5;241m.\u001b[39m__nav)\n\u001b[1;32m--> 238\u001b[0m     \u001b[38;5;28mobject\u001b[39m \u001b[38;5;241m=\u001b[39m \u001b[43mpublication_parser\u001b[49m\u001b[38;5;241;43m.\u001b[39;49m\u001b[43mfill\u001b[49m\u001b[43m(\u001b[49m\u001b[38;5;28;43mobject\u001b[39;49m\u001b[43m)\u001b[49m\n\u001b[0;32m    239\u001b[0m \u001b[38;5;28;01mreturn\u001b[39;00m \u001b[38;5;28mobject\u001b[39m\n",
      "File \u001b[1;32m~\\AppData\\Local\\Packages\\PythonSoftwareFoundation.Python.3.10_qbz5n2kfra8p0\\LocalCache\\local-packages\\Python310\\site-packages\\scholarly\\publication_parser.py:278\u001b[0m, in \u001b[0;36mPublicationParser.fill\u001b[1;34m(self, publication)\u001b[0m\n\u001b[0;32m    276\u001b[0m \u001b[38;5;28;01mif\u001b[39;00m publication[\u001b[38;5;124m'\u001b[39m\u001b[38;5;124msource\u001b[39m\u001b[38;5;124m'\u001b[39m] \u001b[38;5;241m==\u001b[39m PublicationSource\u001b[38;5;241m.\u001b[39mAUTHOR_PUBLICATION_ENTRY:\n\u001b[0;32m    277\u001b[0m     url \u001b[38;5;241m=\u001b[39m _CITATIONPUB\u001b[38;5;241m.\u001b[39mformat(publication[\u001b[38;5;124m'\u001b[39m\u001b[38;5;124mauthor_pub_id\u001b[39m\u001b[38;5;124m'\u001b[39m])\n\u001b[1;32m--> 278\u001b[0m     soup \u001b[38;5;241m=\u001b[39m \u001b[38;5;28;43mself\u001b[39;49m\u001b[38;5;241;43m.\u001b[39;49m\u001b[43mnav\u001b[49m\u001b[38;5;241;43m.\u001b[39;49m\u001b[43m_get_soup\u001b[49m\u001b[43m(\u001b[49m\u001b[43murl\u001b[49m\u001b[43m)\u001b[49m\n\u001b[0;32m    279\u001b[0m     publication[\u001b[38;5;124m'\u001b[39m\u001b[38;5;124mbib\u001b[39m\u001b[38;5;124m'\u001b[39m][\u001b[38;5;124m'\u001b[39m\u001b[38;5;124mtitle\u001b[39m\u001b[38;5;124m'\u001b[39m] \u001b[38;5;241m=\u001b[39m soup\u001b[38;5;241m.\u001b[39mfind(\u001b[38;5;124m'\u001b[39m\u001b[38;5;124mdiv\u001b[39m\u001b[38;5;124m'\u001b[39m, \u001b[38;5;28mid\u001b[39m\u001b[38;5;241m=\u001b[39m\u001b[38;5;124m'\u001b[39m\u001b[38;5;124mgsc_oci_title\u001b[39m\u001b[38;5;124m'\u001b[39m)\u001b[38;5;241m.\u001b[39mtext\n\u001b[0;32m    280\u001b[0m     \u001b[38;5;28;01mif\u001b[39;00m publication[\u001b[38;5;124m'\u001b[39m\u001b[38;5;124mbib\u001b[39m\u001b[38;5;124m'\u001b[39m][\u001b[38;5;124m'\u001b[39m\u001b[38;5;124mtitle\u001b[39m\u001b[38;5;124m'\u001b[39m][\u001b[38;5;241m-\u001b[39m\u001b[38;5;241m1\u001b[39m] \u001b[38;5;241m==\u001b[39m \u001b[38;5;124m'\u001b[39m\u001b[38;5;130;01m\\u2026\u001b[39;00m\u001b[38;5;124m'\u001b[39m:\n",
      "File \u001b[1;32m~\\AppData\\Local\\Packages\\PythonSoftwareFoundation.Python.3.10_qbz5n2kfra8p0\\LocalCache\\local-packages\\Python310\\site-packages\\scholarly\\_navigator.py:239\u001b[0m, in \u001b[0;36mNavigator._get_soup\u001b[1;34m(self, url)\u001b[0m\n\u001b[0;32m    237\u001b[0m \u001b[38;5;28;01mdef\u001b[39;00m \u001b[38;5;21m_get_soup\u001b[39m(\u001b[38;5;28mself\u001b[39m, url: \u001b[38;5;28mstr\u001b[39m) \u001b[38;5;241m-\u001b[39m\u001b[38;5;241m>\u001b[39m BeautifulSoup:\n\u001b[0;32m    238\u001b[0m \u001b[38;5;250m    \u001b[39m\u001b[38;5;124;03m\"\"\"Return the BeautifulSoup for a page on scholar.google.com\"\"\"\u001b[39;00m\n\u001b[1;32m--> 239\u001b[0m     html \u001b[38;5;241m=\u001b[39m \u001b[38;5;28;43mself\u001b[39;49m\u001b[38;5;241;43m.\u001b[39;49m\u001b[43m_get_page\u001b[49m\u001b[43m(\u001b[49m\u001b[38;5;124;43m'\u001b[39;49m\u001b[38;5;124;43mhttps://scholar.google.com\u001b[39;49m\u001b[38;5;132;43;01m{0}\u001b[39;49;00m\u001b[38;5;124;43m'\u001b[39;49m\u001b[38;5;241;43m.\u001b[39;49m\u001b[43mformat\u001b[49m\u001b[43m(\u001b[49m\u001b[43murl\u001b[49m\u001b[43m)\u001b[49m\u001b[43m)\u001b[49m\n\u001b[0;32m    240\u001b[0m     html \u001b[38;5;241m=\u001b[39m html\u001b[38;5;241m.\u001b[39mreplace(\u001b[38;5;124mu\u001b[39m\u001b[38;5;124m'\u001b[39m\u001b[38;5;130;01m\\xa0\u001b[39;00m\u001b[38;5;124m'\u001b[39m, \u001b[38;5;124mu\u001b[39m\u001b[38;5;124m'\u001b[39m\u001b[38;5;124m \u001b[39m\u001b[38;5;124m'\u001b[39m)\n\u001b[0;32m    241\u001b[0m     res \u001b[38;5;241m=\u001b[39m BeautifulSoup(html, \u001b[38;5;124m'\u001b[39m\u001b[38;5;124mhtml.parser\u001b[39m\u001b[38;5;124m'\u001b[39m)\n",
      "File \u001b[1;32m~\\AppData\\Local\\Packages\\PythonSoftwareFoundation.Python.3.10_qbz5n2kfra8p0\\LocalCache\\local-packages\\Python310\\site-packages\\scholarly\\_navigator.py:113\u001b[0m, in \u001b[0;36mNavigator._get_page\u001b[1;34m(self, pagerequest, premium)\u001b[0m\n\u001b[0;32m    111\u001b[0m \u001b[38;5;28;01mtry\u001b[39;00m:\n\u001b[0;32m    112\u001b[0m     w \u001b[38;5;241m=\u001b[39m random\u001b[38;5;241m.\u001b[39muniform(\u001b[38;5;241m1\u001b[39m,\u001b[38;5;241m2\u001b[39m)\n\u001b[1;32m--> 113\u001b[0m     \u001b[43mtime\u001b[49m\u001b[38;5;241;43m.\u001b[39;49m\u001b[43msleep\u001b[49m\u001b[43m(\u001b[49m\u001b[43mw\u001b[49m\u001b[43m)\u001b[49m\n\u001b[0;32m    114\u001b[0m     resp \u001b[38;5;241m=\u001b[39m session\u001b[38;5;241m.\u001b[39mget(pagerequest, timeout\u001b[38;5;241m=\u001b[39mtimeout)\n\u001b[0;32m    115\u001b[0m     \u001b[38;5;28;01mif\u001b[39;00m premium \u001b[38;5;129;01mis\u001b[39;00m \u001b[38;5;28;01mFalse\u001b[39;00m:  \u001b[38;5;66;03m# premium methods may contain sensitive information\u001b[39;00m\n",
      "\u001b[1;31mKeyboardInterrupt\u001b[0m: "
     ]
    }
   ],
   "source": [
    "from scholarly import scholarly\n",
    "import json\n",
    "\n",
    "def fetch_author_publications(id):\n",
    "    author = scholarly.fill((scholarly.search_author_id(id)))\n",
    "    result = []\n",
    "    for pub in author.get('publications', []):\n",
    "        detailed = scholarly.fill(pub)\n",
    "        bib = detailed.get('bib', {})\n",
    "        item = {\n",
    "            \"id\": \"\"\"http://zotero.org/groups/...\"\"\",  # you may generate or leave placeholder\n",
    "            \"type\": \"article-journal\",               # adjust based on content\n",
    "            \"title\": bib.get(\"title\"),\n",
    "            \"container-title\": bib.get(\"venue\"),\n",
    "            \"page\": bib.get(\"pages\"),\n",
    "            \"volume\": bib.get(\"volume\"),\n",
    "            \"issue\": bib.get(\"issue\"),\n",
    "            \"source\": \"Google Scholar\",\n",
    "            \"abstract\": detailed.get(\"abstract\"),\n",
    "            \"DOI\": bib.get(\"doi\"),\n",
    "            \"author\": bib.get(\"author\", []),\n",
    "            \"issued\": {\"date-parts\": [[bib.get(\"pub_year\")]]}\n",
    "        }\n",
    "        result.append(item)\n",
    "        with open(f\"./_data/journals.json\", \"w\", encoding=\"utf-8\") as f:\n",
    "            json.dump(result, f, ensure_ascii=False, indent=4)\n",
    "\n",
    "print(fetch_author_publications(\"H4gjHdYAAAAJ\"))\n"
   ]
  }
 ],
 "metadata": {
  "kernelspec": {
   "display_name": "Python 3",
   "language": "python",
   "name": "python3"
  },
  "language_info": {
   "codemirror_mode": {
    "name": "ipython",
    "version": 3
   },
   "file_extension": ".py",
   "mimetype": "text/x-python",
   "name": "python",
   "nbconvert_exporter": "python",
   "pygments_lexer": "ipython3",
   "version": "3.10.11"
  }
 },
 "nbformat": 4,
 "nbformat_minor": 5
}
