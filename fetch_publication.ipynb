{
 "cells": [
  {
   "cell_type": "code",
   "execution_count": 53,
   "id": "ebb92a6b",
   "metadata": {},
   "outputs": [],
   "source": [
    "from scholarly import scholarly\n",
    "import json\n",
    "import os\n",
    "import pandas as pd\n",
    "\n",
    "def fetch_by_id(author_id):\n",
    "\tsearch_query = scholarly.search_author_id(author_id)\n",
    "\tauthor = scholarly.fill((search_query))\n",
    "\tjournals = []\n",
    "\tconferences = []\n",
    "\tfor pub in author.get('publications', []):\n",
    "\t\tdetailed = scholarly.fill(pub)\n",
    "\t\t\t\t\n",
    "\t\tif detailed.get('bib', {}).get('conference', None):\n",
    "\t\t\tconf = detailed.get('bib', {})\n",
    "\t\t\tconferences.append(conf)\n",
    "\t\tif detailed.get('bib', {}).get('journal', None):\n",
    "\t\t\tjournal = detailed.get('bib', {})\n",
    "\t\t\tjournals.append(journal)\n",
    "\treturn conferences, journals\n",
    "\n",
    "def remove_duplicates(records):\n",
    "    seen_titles = set()\n",
    "    unique_records = []\n",
    "    for record in records:\n",
    "        if record['title'] not in seen_titles:\n",
    "            unique_records.append(record)\n",
    "            seen_titles.add(record['title'])\n",
    "    return unique_records\n",
    "\n",
    "def bib_to_text(unique_conferences, unique_journals):\n",
    "    conferences_texts = []\n",
    "    journal_texts = []\n",
    "    for conf in unique_conferences:\n",
    "        conf_text = (conf.get('title', '') + ', ' + conf.get('conference', '') + ', ' + conf.get('author', '') + ', ' + str(conf.get('pub_year', '')))\n",
    "        conferences_texts.append(conf_text)\n",
    "    for journal in unique_journals:\n",
    "        journal_text = (journal.get('title', '') + ', ' + journal.get('citation', '') + ', ' + journal.get('author', '') + ', ' + str(journal.get('pub_year', '')))\n",
    "        journal_texts.append(journal_text)\n",
    "    return conferences_texts, journal_texts\n",
    "\n",
    "member_ids = []\n",
    "df = pd.read_csv('./_data/member_id.csv', encoding='utf-8')\n",
    "ids = (df['id'].tolist())\n",
    "conferencess = []\n",
    "journalss = []\n",
    "\n",
    "\n",
    "for id in ids[-2:]:\n",
    "\tconferences, journals = fetch_by_id(id)\n",
    "\tconferencess.extend(conferences)\n",
    "\tjournalss.extend(journals)"
   ]
  },
  {
   "cell_type": "code",
   "execution_count": 54,
   "id": "3f12e460",
   "metadata": {},
   "outputs": [],
   "source": [
    "unique_conferencess = remove_duplicates(conferencess)\n",
    "unique_journalss = remove_duplicates(journalss)\n",
    "unique_conference_texts, unique_journal_texts = bib_to_text(unique_conferencess, unique_journalss)\n",
    "\n"
   ]
  },
  {
   "cell_type": "code",
   "execution_count": 55,
   "id": "6824beb4",
   "metadata": {},
   "outputs": [],
   "source": [
    "conference_dicts = [{\"title\": c, \"order\": i+1} for i, c in enumerate(unique_conference_texts)]\n",
    "with open(\"_data/conferences.json\", \"w\", encoding=\"utf-8\") as f:\n",
    "\tjson.dump(conference_dicts, f, ensure_ascii=False, indent=4)\n",
    " \n",
    "journal_dicts = [{\"title\": c, \"order\": i+1} for i, c in enumerate(unique_journal_texts)]\n",
    "with open(\"_data/journals.json\", \"w\", encoding=\"utf-8\") as f:\n",
    "\tjson.dump(journal_dicts, f, ensure_ascii=False, indent=4)"
   ]
  }
 ],
 "metadata": {
  "kernelspec": {
   "display_name": "Python 3",
   "language": "python",
   "name": "python3"
  },
  "language_info": {
   "codemirror_mode": {
    "name": "ipython",
    "version": 3
   },
   "file_extension": ".py",
   "mimetype": "text/x-python",
   "name": "python",
   "nbconvert_exporter": "python",
   "pygments_lexer": "ipython3",
   "version": "3.10.11"
  }
 },
 "nbformat": 4,
 "nbformat_minor": 5
}
